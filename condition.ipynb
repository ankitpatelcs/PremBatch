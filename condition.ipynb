{
 "cells": [
  {
   "cell_type": "code",
   "execution_count": 2,
   "id": "81388d0f",
   "metadata": {},
   "outputs": [
    {
     "name": "stdout",
     "output_type": "stream",
     "text": [
      "equal\n",
      "after if\n"
     ]
    }
   ],
   "source": [
    "a=50\n",
    "if a>50:\n",
    "    print('greater')\n",
    "elif a<50:\n",
    "    print('lessor')\n",
    "elif a==50:\n",
    "    print('equal')\n",
    "\n",
    "print('after if')"
   ]
  },
  {
   "cell_type": "code",
   "execution_count": 6,
   "id": "65793d87",
   "metadata": {},
   "outputs": [
    {
     "name": "stdout",
     "output_type": "stream",
     "text": [
      "even\n"
     ]
    }
   ],
   "source": [
    "num=80\n",
    "if num%2==0:\n",
    "    print('even')\n",
    "else:\n",
    "    print('odd')"
   ]
  },
  {
   "cell_type": "code",
   "execution_count": 6,
   "id": "7bd41a96",
   "metadata": {},
   "outputs": [
    {
     "name": "stdout",
     "output_type": "stream",
     "text": [
      "greater and odd\n"
     ]
    }
   ],
   "source": [
    "a=15\n",
    "if a>10:\n",
    "    if a%2==0:\n",
    "        print('true')\n",
    "    else:\n",
    "        print('greater and odd')\n",
    "else:\n",
    "    print('false')\n"
   ]
  }
 ],
 "metadata": {
  "kernelspec": {
   "display_name": "Python 3 (ipykernel)",
   "language": "python",
   "name": "python3"
  },
  "language_info": {
   "codemirror_mode": {
    "name": "ipython",
    "version": 3
   },
   "file_extension": ".py",
   "mimetype": "text/x-python",
   "name": "python",
   "nbconvert_exporter": "python",
   "pygments_lexer": "ipython3",
   "version": "3.9.7"
  }
 },
 "nbformat": 4,
 "nbformat_minor": 5
}
