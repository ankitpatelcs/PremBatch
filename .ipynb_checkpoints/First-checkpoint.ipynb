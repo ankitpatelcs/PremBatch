{
 "cells": [
  {
   "cell_type": "code",
   "execution_count": 9,
   "id": "8f753ec3",
   "metadata": {},
   "outputs": [
    {
     "name": "stdout",
     "output_type": "stream",
     "text": [
      "Learning Python \t\b '3.0' from TOPS\n"
     ]
    }
   ],
   "source": [
    "print(\"Learning Python \\t\\b '3.0' from TOPS\")"
   ]
  },
  {
   "cell_type": "code",
   "execution_count": 12,
   "id": "a2172835",
   "metadata": {},
   "outputs": [
    {
     "name": "stdout",
     "output_type": "stream",
     "text": [
      "hello world.hello world\n"
     ]
    }
   ],
   "source": [
    "print(\"hello world\",end=\".\")\n",
    "print(\"hello world\")"
   ]
  },
  {
   "cell_type": "code",
   "execution_count": 14,
   "id": "b406eff9",
   "metadata": {},
   "outputs": [
    {
     "name": "stdout",
     "output_type": "stream",
     "text": [
      "hello,world\n"
     ]
    }
   ],
   "source": [
    "#this text is to display message\n",
    "print(\"hello\",\"world\",sep=',')"
   ]
  },
  {
   "cell_type": "code",
   "execution_count": 17,
   "id": "75b3b727",
   "metadata": {},
   "outputs": [
    {
     "name": "stdout",
     "output_type": "stream",
     "text": [
      "Hello \\n python\n"
     ]
    }
   ],
   "source": [
    "print(r\"Hello \\n python\")"
   ]
  },
  {
   "cell_type": "code",
   "execution_count": 19,
   "id": "ef0e0869",
   "metadata": {},
   "outputs": [
    {
     "name": "stdout",
     "output_type": "stream",
     "text": [
      "<class 'str'>\n"
     ]
    }
   ],
   "source": [
    "num=45\n",
    "name=\"Prem\"\n",
    "print(type(name))"
   ]
  },
  {
   "cell_type": "code",
   "execution_count": 22,
   "id": "836a413c",
   "metadata": {},
   "outputs": [
    {
     "name": "stdout",
     "output_type": "stream",
     "text": [
      "46\n"
     ]
    }
   ],
   "source": [
    "num1='45'\n",
    "num=float(num1)\n",
    "num=num+1\n",
    "print(num)"
   ]
  },
  {
   "cell_type": "code",
   "execution_count": 25,
   "id": "07fd77d6",
   "metadata": {},
   "outputs": [
    {
     "name": "stdout",
     "output_type": "stream",
     "text": [
      "Enter Name: Prem\n",
      "Enter Number: 25\n",
      "Prem\n",
      "25\n"
     ]
    }
   ],
   "source": [
    "name=input('Enter Name: ')\n",
    "num=int(input('Enter Number: '))\n",
    "print(name)\n",
    "print(num)"
   ]
  },
  {
   "cell_type": "code",
   "execution_count": 26,
   "id": "9167d682",
   "metadata": {},
   "outputs": [
    {
     "name": "stdout",
     "output_type": "stream",
     "text": [
      "Enter Name: learning python from TOPS\n",
      "['learning', 'python', 'from', 'TOPS']\n"
     ]
    }
   ],
   "source": [
    "l1=input('Enter Name: ').split()\n",
    "print(l1)"
   ]
  },
  {
   "cell_type": "code",
   "execution_count": 28,
   "id": "40126046",
   "metadata": {},
   "outputs": [
    {
     "name": "stdout",
     "output_type": "stream",
     "text": [
      "Enter Name: shweta\n",
      "Enter Number: 78\n",
      "Name of Student is shweta and number is 78\n",
      "Name of Student is shweta and number is 78\n"
     ]
    }
   ],
   "source": [
    "name=input('Enter Name: ')\n",
    "num=int(input('Enter Number: '))\n",
    "\n",
    "print('Name of Student is {0} and number is {1}'.format(name,num))\n",
    "print(f'Name of Student is {name} and number is {num}')"
   ]
  },
  {
   "cell_type": "code",
   "execution_count": 3,
   "id": "9d151215",
   "metadata": {},
   "outputs": [
    {
     "name": "stdout",
     "output_type": "stream",
     "text": [
      "Name: Prem and number: 45\n",
      "Name: Prem and number: 45\n"
     ]
    }
   ],
   "source": [
    "num=45\n",
    "name=\"Prem\"\n",
    "print(\"Name: {0} and number: {1}\".format(name,num))\n",
    "print(f\"Name: {name} and number: {num}\")"
   ]
  }
 ],
 "metadata": {
  "kernelspec": {
   "display_name": "Python 3 (ipykernel)",
   "language": "python",
   "name": "python3"
  },
  "language_info": {
   "codemirror_mode": {
    "name": "ipython",
    "version": 3
   },
   "file_extension": ".py",
   "mimetype": "text/x-python",
   "name": "python",
   "nbconvert_exporter": "python",
   "pygments_lexer": "ipython3",
   "version": "3.9.7"
  }
 },
 "nbformat": 4,
 "nbformat_minor": 5
}
